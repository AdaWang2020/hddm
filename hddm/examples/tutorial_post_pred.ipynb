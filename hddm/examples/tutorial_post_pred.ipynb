{
 "metadata": {
  "name": ""
 },
 "nbformat": 3,
 "nbformat_minor": 0,
 "worksheets": [
  {
   "cells": [
    {
     "cell_type": "heading",
     "level": 1,
     "metadata": {},
     "source": [
      "HDDM tutorial: Posterior Predictives"
     ]
    },
    {
     "cell_type": "markdown",
     "metadata": {},
     "source": [
      "In this tutorial you will learn how to run posterior predictive checks in HDDM.\n",
      "\n",
      "A posterior predictive check is a very useful tool when you want to evaluate if your model can reproduce key patterns in your data. Specifically, you can define a summary statistic that describes the pattern you are interested in (e.g. accuracy in your task) and then simulate new data from the posterior of your fitted model. You can the apply the the summary statistic to each of the data sets you simulated from the posterior and see if the model does a good job of reproducing this pattern by comparing the summary statistics from the simulations to the summary statistic caluclated over the model.\n",
      "\n",
      "What is critical is that you do not only get a single summary statistic from the simulations but a whole distribution which captures the uncertainty in our model estimate.\n",
      "\n",
      "Lets do a simple analysis using simulated data. First, import HDDM."
     ]
    },
    {
     "cell_type": "code",
     "collapsed": false,
     "input": [
      "import hddm"
     ],
     "language": "python",
     "metadata": {},
     "outputs": [
      {
       "output_type": "stream",
       "stream": "stdout",
       "text": [
        "Couldn't import dot_parser, loading of dot files will not be possible.\n"
       ]
      }
     ],
     "prompt_number": 1
    },
    {
     "cell_type": "markdown",
     "metadata": {},
     "source": [
      "Simulate data from known parameters and two conditions (easy and hard)."
     ]
    },
    {
     "cell_type": "code",
     "collapsed": false,
     "input": [
      "data, params = hddm.generate.gen_rand_data(params={'easy': {'v': 1, 'a': 2, 't': .3},\n",
      "                                                   'hard': {'v': 1, 'a': 2, 't': .3}})"
     ],
     "language": "python",
     "metadata": {},
     "outputs": [],
     "prompt_number": 2
    },
    {
     "cell_type": "markdown",
     "metadata": {},
     "source": [
      "First, lets estimate the same model that was used to generate the data."
     ]
    },
    {
     "cell_type": "code",
     "collapsed": false,
     "input": [
      "m = hddm.HDDM(data, depends_on={'v': 'condition'})\n",
      "m.sample(1000, burn=20)"
     ],
     "language": "python",
     "metadata": {},
     "outputs": [
      {
       "output_type": "stream",
       "stream": "stdout",
       "text": [
        " \r",
        "[****************100%******************]  1000 of 1000 complete"
       ]
      },
      {
       "metadata": {},
       "output_type": "pyout",
       "prompt_number": 3,
       "text": [
        "<pymc.MCMC.MCMC at 0xc1bc74c>"
       ]
      },
      {
       "output_type": "stream",
       "stream": "stdout",
       "text": [
        "\n"
       ]
      }
     ],
     "prompt_number": 3
    },
    {
     "cell_type": "markdown",
     "metadata": {},
     "source": [
      "Next, we'll want to simulate data from the model. By default, `post_pred_gen()` will use 500 parameter values from the posterior (i.e. posterior samples) and simulate a different data set for each parameter value."
     ]
    },
    {
     "cell_type": "code",
     "collapsed": false,
     "input": [
      "ppc_data = hddm.utils.post_pred_gen(m)"
     ],
     "language": "python",
     "metadata": {},
     "outputs": [
      {
       "output_type": "stream",
       "stream": "stdout",
       "text": [
        " \r",
        "[*****************50%                  ]  1 of 2 complete"
       ]
      },
      {
       "output_type": "stream",
       "stream": "stdout",
       "text": [
        "\n"
       ]
      }
     ],
     "prompt_number": 4
    },
    {
     "cell_type": "markdown",
     "metadata": {},
     "source": [
      "The returned data structure is a pandas `DataFrame` object with a hierarchical index."
     ]
    },
    {
     "cell_type": "code",
     "collapsed": false,
     "input": [
      "ppc_data.head(10)"
     ],
     "language": "python",
     "metadata": {},
     "outputs": [
      {
       "html": [
        "<div style=\"max-height:1000px;max-width:1500px;overflow:auto;\">\n",
        "<table border=\"1\" class=\"dataframe\">\n",
        "  <thead>\n",
        "    <tr style=\"text-align: right;\">\n",
        "      <th></th>\n",
        "      <th></th>\n",
        "      <th></th>\n",
        "      <th>rt</th>\n",
        "      <th>response</th>\n",
        "    </tr>\n",
        "    <tr>\n",
        "      <th>node</th>\n",
        "      <th>sample</th>\n",
        "      <th></th>\n",
        "      <th></th>\n",
        "      <th></th>\n",
        "    </tr>\n",
        "  </thead>\n",
        "  <tbody>\n",
        "    <tr>\n",
        "      <th rowspan=\"10\" valign=\"top\">wfpt(easy)</th>\n",
        "      <th rowspan=\"10\" valign=\"top\">0</th>\n",
        "      <th>0</th>\n",
        "      <td> 0.41009</td>\n",
        "      <td> 1</td>\n",
        "    </tr>\n",
        "    <tr>\n",
        "      <th>1</th>\n",
        "      <td> 0.79089</td>\n",
        "      <td> 1</td>\n",
        "    </tr>\n",
        "    <tr>\n",
        "      <th>2</th>\n",
        "      <td>-0.67769</td>\n",
        "      <td> 0</td>\n",
        "    </tr>\n",
        "    <tr>\n",
        "      <th>3</th>\n",
        "      <td> 0.49359</td>\n",
        "      <td> 1</td>\n",
        "    </tr>\n",
        "    <tr>\n",
        "      <th>4</th>\n",
        "      <td> 1.59039</td>\n",
        "      <td> 1</td>\n",
        "    </tr>\n",
        "    <tr>\n",
        "      <th>5</th>\n",
        "      <td> 0.99669</td>\n",
        "      <td> 1</td>\n",
        "    </tr>\n",
        "    <tr>\n",
        "      <th>6</th>\n",
        "      <td> 5.51089</td>\n",
        "      <td> 1</td>\n",
        "    </tr>\n",
        "    <tr>\n",
        "      <th>7</th>\n",
        "      <td> 0.73069</td>\n",
        "      <td> 1</td>\n",
        "    </tr>\n",
        "    <tr>\n",
        "      <th>8</th>\n",
        "      <td> 0.82829</td>\n",
        "      <td> 1</td>\n",
        "    </tr>\n",
        "    <tr>\n",
        "      <th>9</th>\n",
        "      <td> 0.92839</td>\n",
        "      <td> 1</td>\n",
        "    </tr>\n",
        "  </tbody>\n",
        "</table>\n",
        "</div>"
       ],
       "metadata": {},
       "output_type": "pyout",
       "prompt_number": 5,
       "text": [
        "                          rt  response\n",
        "node       sample                     \n",
        "wfpt(easy) 0      0  0.41009         1\n",
        "                  1  0.79089         1\n",
        "                  2 -0.67769         0\n",
        "                  3  0.49359         1\n",
        "                  4  1.59039         1\n",
        "                  5  0.99669         1\n",
        "                  6  5.51089         1\n",
        "                  7  0.73069         1\n",
        "                  8  0.82829         1\n",
        "                  9  0.92839         1"
       ]
      }
     ],
     "prompt_number": 5
    },
    {
     "cell_type": "markdown",
     "metadata": {},
     "source": [
      "The first level of the `DataFrame` contains each observed node. In this case the easy condition. If we had multiple subjects we would get one for each subject.\n",
      "\n",
      "The second level contains the simulated data sets. Since we simulated 500, these will go from 0 to 499 -- each with generated from a different parameter value sampled from the posterior.\n",
      "\n",
      "The third level is the same index as used in the data and numbers each trial in your data.\n",
      "\n",
      "For more information on how to work with hierarchical indices, see the [Pandas documentation](http://pandas.pydata.org/pandas-docs/stable/indexing.html#hierarchical-indexing-multiindex).\n",
      "\n",
      "There are also some helpful options like `append_data` you can pass to `post_pred_gen()`."
     ]
    },
    {
     "cell_type": "code",
     "collapsed": false,
     "input": [
      "help(hddm.utils.post_pred_gen)"
     ],
     "language": "python",
     "metadata": {},
     "outputs": [
      {
       "output_type": "stream",
       "stream": "stdout",
       "text": [
        "Help on function post_pred_gen in module kabuki.analyze:\n",
        "\n",
        "post_pred_gen(model, groupby=None, samples=500, append_data=False, progress_bar=True)\n",
        "    Run posterior predictive check on a model.\n",
        "    \n",
        "    :Arguments:\n",
        "        model : kabuki.Hierarchical\n",
        "            Kabuki model over which to compute the ppc on.\n",
        "    \n",
        "    :Optional:\n",
        "        samples : int\n",
        "            How many samples to generate for each node.\n",
        "        groupby : list\n",
        "            Alternative grouping of the data. If not supplied, uses splitting\n",
        "            of the model (as provided by depends_on).\n",
        "        append_data : bool (default=False)\n",
        "            Whether to append the observed data of each node to the replicatons.\n",
        "        progress_bar : bool (default=True)\n",
        "            Display progress bar\n",
        "    \n",
        "    :Returns:\n",
        "        Hierarchical pandas.DataFrame with multiple sampled RT data sets.\n",
        "        1st level: wfpt node\n",
        "        2nd level: posterior predictive sample\n",
        "        3rd level: original data index\n",
        "    \n",
        "    :See also:\n",
        "        post_pred_stats\n",
        "\n"
       ]
      }
     ],
     "prompt_number": 6
    },
    {
     "cell_type": "markdown",
     "metadata": {},
     "source": [
      "Now we want to compute the summary statistics over each simulated data set and compare that to the summary statistic of our actual data by calling `post_pred_stats()`."
     ]
    },
    {
     "cell_type": "code",
     "collapsed": false,
     "input": [
      "ppc_compare = hddm.utils.post_pred_stats(data, ppc_data)"
     ],
     "language": "python",
     "metadata": {},
     "outputs": [],
     "prompt_number": 7
    },
    {
     "cell_type": "code",
     "collapsed": false,
     "input": [
      "print ppc_compare"
     ],
     "language": "python",
     "metadata": {},
     "outputs": [
      {
       "output_type": "stream",
       "stream": "stdout",
       "text": [
        "          observed      mean       std       SEM       MSE  credible  \\\n",
        "stat                                                                   \n",
        "accuracy  0.890000  0.874580  0.063930  0.000238  0.004325         1   \n",
        "mean_ub   1.084831  1.048314  0.111169  0.001334  0.013692         1   \n",
        "std_ub    0.654891  0.542704  0.129186  0.012586  0.029275         1   \n",
        "10q_ub    0.510200  0.549030  0.045206  0.001508  0.003551         1   \n",
        "30q_ub    0.649200  0.704437  0.067714  0.003051  0.007636         1   \n",
        "50q_ub    0.818000  0.891622  0.099117  0.005420  0.015244         1   \n",
        "70q_ub    1.253800  1.165027  0.149496  0.007881  0.030230         1   \n",
        "90q_ub    1.884400  1.741424  0.282329  0.020442  0.100152         1   \n",
        "mean_lb  -0.970818 -1.046499  0.269939  0.005728  0.078595         1   \n",
        "std_lb    0.543502  0.423627  0.251797  0.014370  0.077772         1   \n",
        "10q_lb    0.547000  0.660271  0.203289  0.012830  0.054157         1   \n",
        "30q_lb    0.648000  0.785022  0.223779  0.018775  0.068852         1   \n",
        "50q_lb    0.693000  0.939898  0.269239  0.060958  0.133448         1   \n",
        "70q_lb    1.022000  1.158692  0.346341  0.018685  0.138637         1   \n",
        "90q_lb    1.666000  1.532752  0.515372  0.017755  0.283363         1   \n",
        "\n",
        "           quantile  mahalanobis  \n",
        "stat                              \n",
        "accuracy  55.500000     0.241202  \n",
        "mean_ub   64.699997     0.328490  \n",
        "std_ub    81.500000     0.868420  \n",
        "10q_ub    18.900000     0.858949  \n",
        "30q_ub    20.700001     0.815736  \n",
        "50q_ub    23.400000     0.742775  \n",
        "70q_ub    73.500000     0.593812  \n",
        "90q_ub    71.500000     0.506417  \n",
        "mean_lb   57.517658     0.280362  \n",
        "std_lb    72.754791     0.476077  \n",
        "10q_lb    26.538849     0.557192  \n",
        "30q_lb    25.933401     0.612307  \n",
        "50q_lb    14.228052     0.917022  \n",
        "70q_lb    40.060543     0.394675  \n",
        "90q_lb    65.893036     0.258547  \n"
       ]
      }
     ],
     "prompt_number": 8
    },
    {
     "cell_type": "markdown",
     "metadata": {},
     "source": [
      "As you can see, we did not have to define the summary statistics as by default, `HDDM` already calculates a bunch of useful statistics for RT analysis such as the accuracy, mean RT of the upper and lower boundary (ub and lb respectively), standard deviation and quantiles. These are listed in the rows of the DataFrame.\n",
      "\n",
      "For each distribution of summary statistics there are multiple ways to compare them to the summary statistic obtained on the observerd data. These are listed in the columns. `observed` is just the value of the summary statistic of your data. `mean` is the mean of the summary statistics of the simulated data sets (they should be a good match if the model reproduces them). `std` is a measure of how much variation is produced in the summary statistic.\n",
      "\n",
      "The rest of the columns are measures of how far the summary statistic of the data is away from the summary statistics of the simulated data. `SEM` = standard error from the mean, `MSE` = mean-squared error, `credible` = in the 95% credible interval."
     ]
    },
    {
     "cell_type": "markdown",
     "metadata": {},
     "source": [
      "Finally, we can also tell `post_pred_stats()` to return the summary statistics themselves by setting `call_compare=False`:"
     ]
    },
    {
     "cell_type": "code",
     "collapsed": false,
     "input": [
      "ppc_stats = hddm.utils.post_pred_stats(data, ppc_data, call_compare=False)"
     ],
     "language": "python",
     "metadata": {},
     "outputs": [],
     "prompt_number": 9
    },
    {
     "cell_type": "code",
     "collapsed": false,
     "input": [
      "print ppc_stats.head()"
     ],
     "language": "python",
     "metadata": {},
     "outputs": [
      {
       "output_type": "stream",
       "stream": "stdout",
       "text": [
        "                 accuracy   mean_ub    std_ub    10q_ub    30q_ub    50q_ub  \\\n",
        "(wfpt(easy), 0)      0.96  1.164858  0.825420  0.500940  0.736800  0.909940   \n",
        "(wfpt(easy), 1)      0.92  1.066229  0.500696  0.552553  0.725853  0.842753   \n",
        "(wfpt(easy), 2)      0.84  1.106792  0.660981  0.538767  0.708527  0.852747   \n",
        "(wfpt(easy), 3)      0.90  0.949962  0.524693  0.507878  0.634398  0.784638   \n",
        "(wfpt(easy), 4)      0.88  0.967202  0.523246  0.509131  0.638661  0.781231   \n",
        "\n",
        "                   70q_ub    90q_ub   mean_lb    std_lb    10q_lb    30q_lb  \\\n",
        "(wfpt(easy), 0)  1.388660  1.902310 -1.270140  0.592450  0.796180  1.033160   \n",
        "(wfpt(easy), 1)  1.298903  1.815803 -0.921803  0.204067  0.720703  0.842803   \n",
        "(wfpt(easy), 2)  1.137547  1.791117 -1.610109  1.577114  0.813307  0.843867   \n",
        "(wfpt(easy), 3)  1.013418  1.533458 -1.125698  0.371009  0.667518  1.004518   \n",
        "(wfpt(easy), 4)  0.958081  1.826761 -0.765531  0.363230  0.545531  0.599181   \n",
        "\n",
        "                   50q_lb    70q_lb    90q_lb  \n",
        "(wfpt(easy), 0)  1.270140  1.507120  1.744100  \n",
        "(wfpt(easy), 1)  0.899403  0.964963  1.140823  \n",
        "(wfpt(easy), 2)  1.084597  1.183127  2.654677  \n",
        "(wfpt(easy), 3)  1.334438  1.347158  1.454438  \n",
        "(wfpt(easy), 4)  0.614681  0.665531  1.136381  \n"
       ]
      }
     ],
     "prompt_number": 10
    },
    {
     "cell_type": "markdown",
     "metadata": {},
     "source": [
      "This `DataFrame` has a row for each simulated data set. The columns are the different summary statistics."
     ]
    },
    {
     "cell_type": "heading",
     "level": 2,
     "metadata": {},
     "source": [
      "Defining your own summary statistics"
     ]
    },
    {
     "cell_type": "markdown",
     "metadata": {},
     "source": [
      "You can also define your own summary statistics and pass them to `post_pred_stats()`:"
     ]
    },
    {
     "cell_type": "code",
     "collapsed": false,
     "input": [
      "ppc_stats = hddm.utils.post_pred_stats(data, ppc_data, stats=lambda x: np.mean(x), call_compare=False)"
     ],
     "language": "python",
     "metadata": {},
     "outputs": [],
     "prompt_number": 12
    },
    {
     "cell_type": "code",
     "collapsed": false,
     "input": [
      "ppc_stats.head()"
     ],
     "language": "python",
     "metadata": {},
     "outputs": [
      {
       "html": [
        "<div style=\"max-height:1000px;max-width:1500px;overflow:auto;\">\n",
        "<table border=\"1\" class=\"dataframe\">\n",
        "  <thead>\n",
        "    <tr style=\"text-align: right;\">\n",
        "      <th></th>\n",
        "      <th>stat</th>\n",
        "    </tr>\n",
        "  </thead>\n",
        "  <tbody>\n",
        "    <tr>\n",
        "      <th>(wfpt(easy), 0)</th>\n",
        "      <td> 1.067459</td>\n",
        "    </tr>\n",
        "    <tr>\n",
        "      <th>(wfpt(easy), 1)</th>\n",
        "      <td> 0.907187</td>\n",
        "    </tr>\n",
        "    <tr>\n",
        "      <th>(wfpt(easy), 2)</th>\n",
        "      <td> 0.672088</td>\n",
        "    </tr>\n",
        "    <tr>\n",
        "      <th>(wfpt(easy), 3)</th>\n",
        "      <td> 0.742396</td>\n",
        "    </tr>\n",
        "    <tr>\n",
        "      <th>(wfpt(easy), 4)</th>\n",
        "      <td> 0.759274</td>\n",
        "    </tr>\n",
        "  </tbody>\n",
        "</table>\n",
        "</div>"
       ],
       "metadata": {},
       "output_type": "pyout",
       "prompt_number": 13,
       "text": [
        "                     stat\n",
        "(wfpt(easy), 0)  1.067459\n",
        "(wfpt(easy), 1)  0.907187\n",
        "(wfpt(easy), 2)  0.672088\n",
        "(wfpt(easy), 3)  0.742396\n",
        "(wfpt(easy), 4)  0.759274"
       ]
      }
     ],
     "prompt_number": 13
    },
    {
     "cell_type": "markdown",
     "metadata": {},
     "source": [
      "Note that `stats` can also be a dictionary mapping the name of the summary statistic to its function."
     ]
    },
    {
     "cell_type": "heading",
     "level": 2,
     "metadata": {},
     "source": [
      "Summary statistics relating to outside variables"
     ]
    },
    {
     "cell_type": "markdown",
     "metadata": {},
     "source": [
      "Another useful way to apply posterior predictive checks is if you have trial-by-trial measure (e.g. EEG brain measure). In that case the `append_data` keyword argument is useful.\n",
      "\n",
      "Lets add a dummy column to our data. This is going to be uncorrelated to anything but you'll get the idea."
     ]
    },
    {
     "cell_type": "code",
     "collapsed": false,
     "input": [
      "from numpy.random import randn\n",
      "data['trlbytrl'] = randn(len(data))"
     ],
     "language": "python",
     "metadata": {},
     "outputs": [],
     "prompt_number": 14
    },
    {
     "cell_type": "code",
     "collapsed": false,
     "input": [
      "m_reg = hddm.HDDMRegressor(data, 'v ~ trlbytrl')\n",
      "m_reg.sample(1000, burn=20)\n",
      "\n",
      "ppc_data = hddm.utils.post_pred_gen(m_reg, append_data=True)"
     ],
     "language": "python",
     "metadata": {},
     "outputs": [
      {
       "output_type": "stream",
       "stream": "stdout",
       "text": [
        " \r",
        "[                  0%                  ]  0 of 1 complete"
       ]
      },
      {
       "output_type": "stream",
       "stream": "stdout",
       "text": [
        "\n"
       ]
      }
     ],
     "prompt_number": 17
    },
    {
     "cell_type": "code",
     "collapsed": false,
     "input": [
      "linregress?"
     ],
     "language": "python",
     "metadata": {},
     "outputs": [],
     "prompt_number": 23
    },
    {
     "cell_type": "code",
     "collapsed": false,
     "input": [
      "from scipy.stats import linregress\n",
      "ppc_regression = []\n",
      "for (node, sample), sim_data in ppc_data.groupby(level=(0, 1)):\n",
      "    ppc_regression.append(linregress(sim_data.trlbytrl, sim_data.rt_sampled)[0]) # slope\n",
      "    \n",
      "orig_regression = linregress(data.trlbytrl, data.rt)[0]"
     ],
     "language": "python",
     "metadata": {},
     "outputs": [],
     "prompt_number": 30
    },
    {
     "cell_type": "code",
     "collapsed": false,
     "input": [
      "plt.hist(ppc_regression)\n",
      "plt.axvline(orig_regression, c='r', lw=3)\n",
      "plt.xlabel('slope')"
     ],
     "language": "python",
     "metadata": {},
     "outputs": [
      {
       "metadata": {},
       "output_type": "pyout",
       "prompt_number": 35,
       "text": [
        "<matplotlib.text.Text at 0xc861f0c>"
       ]
      },
      {
       "metadata": {},
       "output_type": "display_data",
       "png": "[encoded data removed]",
       "text": [
        "<matplotlib.figure.Figure at 0xc495bcc>"
       ]
      }
     ],
     "prompt_number": 35
    },
    {
     "cell_type": "markdown",
     "metadata": {},
     "source": [
      "As you can see, the simulated data sets have on average no correlation to our trial-by-trial measure (just as in the data) but we also get a nice sense of the uncertainty in our estimation."
     ]
    }
   ],
   "metadata": {}
  }
 ]
}