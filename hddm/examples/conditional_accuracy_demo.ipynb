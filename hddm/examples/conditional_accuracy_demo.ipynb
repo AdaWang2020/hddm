{
 "cells": [
  {
   "cell_type": "code",
   "execution_count": 1,
   "metadata": {},
   "outputs": [
    {
     "name": "stderr",
     "output_type": "stream",
     "text": [
      "/Users/janwillem/anaconda2/envs/ddm/lib/python2.7/site-packages/IPython/parallel.py:13: ShimWarning: The `IPython.parallel` package has been deprecated since IPython 4.0. You should import from ipyparallel instead.\n",
      "  \"You should import from ipyparallel instead.\", ShimWarning)\n"
     ]
    }
   ],
   "source": [
    "import sys, os\n",
    "import numpy as np\n",
    "import scipy as sp\n",
    "import pandas as pd\n",
    "import matplotlib.pyplot as plt\n",
    "import seaborn as sns\n",
    "import hddm\n",
    "from joblib import Parallel, delayed\n",
    "from IPython import embed as shell"
   ]
  },
  {
   "cell_type": "code",
   "execution_count": 2,
   "metadata": {},
   "outputs": [],
   "source": [
    "def fit_subject(data, quantiles):\n",
    "    subj_idx = data.iloc[0]['subj_idx']\n",
    "    m = hddm.HDDMStimCoding(data, stim_col='stimulus', split_param='v', drift_criterion=True, bias=True, p_outlier=0,\n",
    "                            depends_on={'v':'condition', 'a':'condition', 't':'condition', 'z':'condition', 'dc':'condition', })\n",
    "#     m.map(runs=5)\n",
    "    m.optimize('gsquare', quantiles=quantiles, n_runs=5)\n",
    "    res = pd.concat((pd.DataFrame([m.values], index=[subj_idx]), pd.DataFrame([m.bic_info], index=[subj_idx])), axis=1)\n",
    "    return res\n",
    "\n",
    "def get_params(params, subj, condition=False):\n",
    "    \n",
    "    # Set parameters\n",
    "    try:\n",
    "        a = params.iloc[subj]['a({})'.format(condition)]\n",
    "    except:\n",
    "        a = params.iloc[subj]['a']\n",
    "    try:\n",
    "        v = params.iloc[subj]['v({})'.format(condition)]\n",
    "    except:\n",
    "        v = params.iloc[subj]['v']\n",
    "    try:\n",
    "        t = params.iloc[subj]['t({})'.format(condition)]\n",
    "    except:\n",
    "        t = params.iloc[subj]['t']\n",
    "    try:\n",
    "        z = params.iloc[subj]['z({})'.format(condition)]\n",
    "    except:\n",
    "        try:\n",
    "            z = params.iloc[subj]['z']\n",
    "        except:\n",
    "            z = 0.5\n",
    "    try:\n",
    "        dc = params.iloc[subj]['dc({})'.format(condition)]\n",
    "    except:\n",
    "        try:\n",
    "            dc = params.iloc[subj]['dc']\n",
    "        except:\n",
    "            dc = 0\n",
    "    try:\n",
    "        sv = params.iloc[subj]['sv']\n",
    "    except: \n",
    "        sv = 0\n",
    "    sz = 0\n",
    "    st = 0\n",
    "    \n",
    "    return (z, a, v, dc, t, sv, sz, st)\n",
    "    \n",
    "def get_choice(row):\n",
    "\n",
    "    if row.condition == 'present':\n",
    "        if row.response == 1:\n",
    "            return 1\n",
    "        else:\n",
    "            return 0\n",
    "    elif row.condition == 'absent':\n",
    "        if row.response == 0:\n",
    "            return 1\n",
    "        else:\n",
    "            return 0\n",
    "\n",
    "def simulate_data(z, a, v, dc, t, sv, sz, st, condition, nr_trials1, nr_trials2):\n",
    "    \n",
    "    parameters1 = {'v':v+dc, 'a':a, 't':t, 'sv':sv, 'z':z, 'sz': sz, 'st': st}\n",
    "    parameters2 = {'v':v-dc, 'a':a, 't':t, 'sv':sv, 'z':1-z, 'sz': sz, 'st': st}\n",
    "    df_sim1, params_sim1 = hddm.generate.gen_rand_data(params=parameters1, size=nr_trials1, subjs=1, subj_noise=0)\n",
    "    df_sim1['condition'] = 'present'\n",
    "    df_sim2, params_sim2 = hddm.generate.gen_rand_data(params=parameters2, size=nr_trials2, subjs=1, subj_noise=0)\n",
    "    df_sim2['condition'] = 'absent'\n",
    "    df_sim = pd.concat((df_sim1, df_sim2))\n",
    "    df_sim['bias_response'] = df_sim.apply(get_choice, 1)\n",
    "    df_sim['correct'] = df_sim['response'].astype(int)\n",
    "    df_sim['response'] = df_sim['bias_response'].astype(int)\n",
    "    df_sim['stimulus'] = np.array((np.array(df_sim['response']==1) & np.array(df_sim['correct']==1)) + (np.array(df_sim['response']==0) & np.array(df_sim['correct']==0)), dtype=int)\n",
    "    df_sim['condition'] = condition\n",
    "    df_sim = df_sim.drop(columns=['bias_response'])\n",
    "    \n",
    "    return df_sim\n",
    "    \n",
    "def model_fit(params, data, condition=False, quantiles=[.1, .3, .5, .7, .9], dt=0.01, stimulus_coding=True, nr_trials=10000):\n",
    "    \n",
    "    plot_nr = 1\n",
    "    nogo = False\n",
    "    \n",
    "    nr_rows = int(np.ceil(params.shape[0] / 4.0)) + 1\n",
    "    tmax = np.percentile(data.loc[~np.isnan(data.rt),'rt'], 97.5) + 0.1\n",
    "    \n",
    "    if np.all(~np.isnan(data['rt'])):\n",
    "        fig = plt.figure(figsize=(6,nr_rows*1.5))\n",
    "    else:\n",
    "        fig = plt.figure(figsize=(8,nr_rows*1.5))\n",
    "    \n",
    "    for subj in np.unique(data['subj_idx']):\n",
    "        \n",
    "        # print:\n",
    "        print(\"plot subj {}\".format(subj))\n",
    "        \n",
    "        # empirical data:\n",
    "        if condition == None:\n",
    "            data_emp_subj = data.loc[(data['subj_idx']==subj)]\n",
    "        else:\n",
    "            data_emp_subj = data.loc[(data['subj_idx']==subj) & (data['condition']==condition)]\n",
    "        \n",
    "        # simulated data:\n",
    "        z, a, v, dc, t, sv, sz, st = get_params(params=params, subj=subj, condition=condition)\n",
    "        nr_trials1 = nr_trials\n",
    "        scaling = nr_trials1 / data_emp_subj['stimulus'].sum()\n",
    "        nr_trials2 = (data_emp_subj.shape[0] - data_emp_subj['stimulus'].sum()) * scaling\n",
    "        data_sim_subj = simulate_data(z=z, a=a, v=v, dc=dc, t=t, sv=sv, sz=sz, st=st, condition=condition, nr_trials1=nr_trials1, nr_trials2=nr_trials2)\n",
    "        \n",
    "        # colors:\n",
    "        colors = ['forestgreen', 'orange']\n",
    "        \n",
    "        # ax:\n",
    "        ax = fig.add_subplot(nr_rows,4,plot_nr)\n",
    "        for resp in [0,1]:\n",
    "            \n",
    "            data_emp = data_emp_subj.loc[data_emp_subj['response']==resp]\n",
    "            data_sim = data_sim_subj.loc[data_sim_subj['response']==resp]\n",
    "            \n",
    "            if resp == 0:\n",
    "                data_emp.loc[:,'rt'] = data_emp.loc[:,'rt'] * -1.0\n",
    "                data_sim.loc[:,'rt'] = data_sim.loc[:,'rt'] * -1.0\n",
    "            if (resp == 1) & nogo:\n",
    "                ax=ax.twinx()\n",
    "            \n",
    "            if np.all(~np.isnan(data_emp['rt'])):\n",
    "                break_points = np.percentile(data_emp.loc[:,'rt'], np.array(quantiles)*100)\n",
    "                ax.hist(data_emp.loc[:,'rt'], bins=break_points, density=True, alpha=0.5, color=colors[resp])\n",
    "                ax.hist(data_sim.loc[:,'rt'], bins=break_points, density=True, histtype='step', color='k')\n",
    "                ax.set_xlim(-tmax,tmax)\n",
    "                ax.set_xlabel('Time (s)')\n",
    "                ax.set_ylabel('Trials (#)')\n",
    "                # ax.set_title('S{}; stim={}'.format(subj, stim))\n",
    "                ax.set_title('S{}'.format(subj))\n",
    "            else:\n",
    "                nogo = True\n",
    "                empirical_no = data_emp.shape[0]\n",
    "                predicted_no = data_sim.shape[0] / scaling\n",
    "                ax.bar(x=0, height=empirical_no, width=0.3, alpha=0.5, color='forestgreen',)\n",
    "                ax.hlines(y=predicted_no, xmin=-0.15, xmax=0.15, lw=0.5, colors='black', label='no')\n",
    "                ax.vlines(x=-0.15, ymin=0, ymax=predicted_no, lw=0.5, colors='black', label='no')\n",
    "                ax.vlines(x=0.15, ymin=0, ymax=predicted_no, lw=0.5, colors='black', label='no')\n",
    "                \n",
    "        plot_nr += 1\n",
    "        \n",
    "    plt.tight_layout()\n",
    "    \n",
    "    return fig\n",
    "\n",
    "def conditional_rt_plots(params, data, condition=False, measure='response', quantiles=[0, .1, .3, .5, .7, .9, 1], nr_trials=10000):\n",
    "    \n",
    "    rts = []\n",
    "    responses = []\n",
    "    responses_sim = []\n",
    "    \n",
    "    for subj in np.unique(data['subj_idx']):\n",
    "        \n",
    "        # print:\n",
    "        print(\"plot subj {}\".format(subj))\n",
    "        \n",
    "        # empirical data:\n",
    "        if condition == None:\n",
    "            data_emp_subj = data.loc[(data['subj_idx']==subj)]\n",
    "        else:\n",
    "            data_emp_subj = data.loc[(data['subj_idx']==subj) & (data['condition']==condition)]\n",
    "        \n",
    "        # simulated data:\n",
    "        z, a, v, dc, t, sv, sz, st = get_params(params=params, subj=subj, condition=condition)\n",
    "        nr_trials1 = nr_trials\n",
    "        scaling = nr_trials1 / data_emp_subj['stimulus'].sum()\n",
    "        nr_trials2 = (data_emp_subj.shape[0] - data_emp_subj['stimulus'].sum()) * scaling\n",
    "        data_sim_subj = simulate_data(z=z, a=a, v=v, dc=dc, t=t, sv=sv, sz=sz, st=st, condition=condition, nr_trials1=nr_trials1, nr_trials2=nr_trials2)\n",
    "        \n",
    "        # fix go/no-go:\n",
    "        if not np.all(~np.isnan(data_emp_subj['rt'])):\n",
    "            data_emp_subj.loc[data_emp_subj['response']==0, 'rt'] = np.NaN\n",
    "            data_sim_subj.loc[data_sim_subj['response']==0, 'rt'] = np.NaN\n",
    "            \n",
    "        # add bins:\n",
    "        data_emp_subj.loc[:,'rt_bin'] = pd.qcut(data_emp_subj['rt'], quantiles, labels=False)\n",
    "        data_emp_subj.loc[np.isnan(data_emp_subj['rt']), 'rt_bin'] = -1\n",
    "        data_sim_subj.loc[:,'rt_bin'] = pd.qcut(data_sim_subj['rt'], quantiles, labels=False)\n",
    "        data_sim_subj.loc[np.isnan(data_sim_subj['rt']), 'rt_bin'] = -1\n",
    "        \n",
    "        # values:\n",
    "        rts.append( np.array(data_emp_subj.groupby('rt_bin').mean()['rt'] ))\n",
    "        responses.append( np.array(data_emp_subj.groupby('rt_bin').mean()[measure] ))\n",
    "        responses_sim.append( np.array(data_sim_subj.groupby('rt_bin').mean()[measure] ))\n",
    "    \n",
    "    # combine across subjects:\n",
    "    rts = np.vstack(rts)\n",
    "    responses = np.vstack(responses)\n",
    "    responses_sim = np.vstack(responses_sim)\n",
    "        \n",
    "    # plot:\n",
    "    fig = plt.figure(figsize=(2,2))\n",
    "    x = np.vstack(rts).mean(axis=0)\n",
    "    plt.fill_between(x, responses.mean(axis=0)-sp.stats.sem(responses, axis=0), responses.mean(axis=0)+sp.stats.sem(responses, axis=0), color='g', alpha=0.2)\n",
    "    plt.plot(x, responses.mean(axis=0), color='g', label='empirical')\n",
    "    plt.fill_between(x, responses_sim.mean(axis=0)-sp.stats.sem(responses_sim, axis=0), responses_sim.mean(axis=0)+sp.stats.sem(responses_sim, axis=0), color='black', alpha=0.2)\n",
    "    plt.plot(x, responses_sim.mean(axis=0), color='black', ls='--', label='model fit')\n",
    "    plt.legend()\n",
    "    plt.ylim(0,1)\n",
    "    plt.xlabel('RT (s)')\n",
    "    plt.ylabel('{} \\n (fraction of trials)'.format(measure))\n",
    "    sns.despine(offset=5, trim=True,)\n",
    "    plt.tight_layout()\n",
    "    \n",
    "    return fig\n"
   ]
  },
  {
   "cell_type": "code",
   "execution_count": null,
   "metadata": {},
   "outputs": [],
   "source": []
  },
  {
   "cell_type": "code",
   "execution_count": 3,
   "metadata": {},
   "outputs": [],
   "source": [
    "n_subjects = 4\n",
    "trials_per_level = 1000\n",
    "params0 = {'cond':0, 'v':0.5, 'a':2.0, 't':0.3, 'z':0.7, 'dc':-0.2, 'sz':0, 'st':0, 'sv':0}\n",
    "params1 = {'cond':1, 'v':0.7, 'a':2.0, 't':0.3, 'z':0.3, 'dc':0.2, 'sz':0, 'st':0, 'sv':0}\n",
    "quantiles = [.1, .3, .5, .7, .9]"
   ]
  },
  {
   "cell_type": "code",
   "execution_count": 4,
   "metadata": {},
   "outputs": [],
   "source": [
    "# simulate:\n",
    "dfs = []\n",
    "for i in range(n_subjects):\n",
    "    df0 = simulate_data(z=params0['z'], a=params0['a'], v=params0['v'], dc=params0['dc'], t=params0['t'], \n",
    "                                    sv=params0['sv'], st=params0['st'], sz=params0['sz'], condition=params0['cond'], \n",
    "                                    nr_trials1=trials_per_level, nr_trials2=trials_per_level)\n",
    "    df1 = simulate_data(z=params1['z'], a=params1['a'], v=params1['v'], dc=params1['dc'], t=params1['t'], \n",
    "                                    sv=params1['sv'], st=params1['st'], sz=params1['sz'], condition=params1['cond'], \n",
    "                                    nr_trials1=trials_per_level, nr_trials2=trials_per_level)\n",
    "    df = pd.concat((df0, df1))\n",
    "    df['subj_idx'] = i\n",
    "    dfs.append(df)\n",
    "\n",
    "df = pd.concat(dfs)    \n",
    "df.to_csv('data.csv')"
   ]
  },
  {
   "cell_type": "code",
   "execution_count": 5,
   "metadata": {},
   "outputs": [
    {
     "name": "stderr",
     "output_type": "stream",
     "text": [
      "/Users/janwillem/anaconda2/envs/ddm/lib/python2.7/site-packages/scipy/optimize/optimize.py:1928: RuntimeWarning: invalid value encountered in double_scalars\n",
      "  tmp2 = (x - v) * (fx - fw)\n",
      "/Users/janwillem/anaconda2/envs/ddm/lib/python2.7/site-packages/scipy/optimize/optimize.py:1928: RuntimeWarning: invalid value encountered in double_scalars\n",
      "  tmp2 = (x - v) * (fx - fw)\n",
      "/Users/janwillem/anaconda2/envs/ddm/lib/python2.7/site-packages/scipy/optimize/optimize.py:1928: RuntimeWarning: invalid value encountered in double_scalars\n",
      "  tmp2 = (x - v) * (fx - fw)\n",
      "/Users/janwillem/anaconda2/envs/ddm/lib/python2.7/site-packages/scipy/optimize/optimize.py:1928: RuntimeWarning: invalid value encountered in double_scalars\n",
      "  tmp2 = (x - v) * (fx - fw)\n"
     ]
    },
    {
     "name": "stdout",
     "output_type": "stream",
     "text": [
      "Optimization terminated successfully.\n",
      "         Current function value: 18380.359936\n",
      "         Iterations: 6\n",
      "         Function evaluations: 734\n",
      "Optimization terminated successfully.\n",
      "         Current function value: 18366.405970\n",
      "         Iterations: 6\n",
      "         Function evaluations: 764\n",
      "Optimization terminated successfully.\n",
      "         Current function value: 18340.339667\n",
      "         Iterations: 7\n",
      "         Function evaluations: 897\n",
      "Optimization terminated successfully.\n",
      "         Current function value: 18330.708622\n",
      "         Iterations: 8\n",
      "         Function evaluations: 1037\n",
      "Optimization terminated successfully.\n",
      "         Current function value: 18366.526630\n",
      "         Iterations: 6\n",
      "         Function evaluations: 712\n",
      "Optimization terminated successfully.\n",
      "         Current function value: 18340.499716\n",
      "         Iterations: 6\n",
      "         Function evaluations: 721\n",
      "Optimization terminated successfully.\n",
      "         Current function value: 18380.187332\n",
      "         Iterations: 7\n",
      "         Function evaluations: 883\n",
      "Optimization terminated successfully.\n",
      "         Current function value: 18330.869497\n",
      "         Iterations: 6\n",
      "         Function evaluations: 740\n",
      "Optimization terminated successfully.\n",
      "         Current function value: 18366.506571\n",
      "         Iterations: 6\n",
      "         Function evaluations: 750\n",
      "Optimization terminated successfully.\n",
      "         Current function value: 18340.462041\n",
      "         Iterations: 6\n",
      "         Function evaluations: 768\n",
      "Optimization terminated successfully.\n",
      "         Current function value: 18380.465780\n",
      "         Iterations: 6\n",
      "         Function evaluations: 749\n",
      "Optimization terminated successfully.\n",
      "         Current function value: 18330.901273\n",
      "         Iterations: 6\n",
      "         Function evaluations: 753\n",
      "Optimization terminated successfully.\n",
      "         Current function value: 18366.219838\n",
      "         Iterations: 6\n",
      "         Function evaluations: 770\n",
      "Optimization terminated successfully.\n",
      "         Current function value: 18340.345487\n",
      "         Iterations: 6\n",
      "         Function evaluations: 796\n",
      "Optimization terminated successfully.\n",
      "         Current function value: 18330.751580\n",
      "         Iterations: 6\n",
      "         Function evaluations: 769\n",
      "Optimization terminated successfully.\n",
      "         Current function value: 18380.179960\n",
      "         Iterations: 7\n",
      "         Function evaluations: 916\n",
      "Optimization terminated successfully.\n",
      "         Current function value: 18366.396930\n",
      "         Iterations: 6\n",
      "         Function evaluations: 778\n",
      "Optimization terminated successfully.\n",
      "         Current function value: 18340.334347\n",
      "         Iterations: 7\n",
      "         Function evaluations: 880\n",
      "Optimization terminated successfully.\n",
      "         Current function value: 18380.358584\n",
      "         Iterations: 6\n",
      "         Function evaluations: 728\n",
      "Optimization terminated successfully.\n",
      "         Current function value: 18330.707459\n",
      "         Iterations: 8\n",
      "         Function evaluations: 1054\n"
     ]
    }
   ],
   "source": [
    "# fit:\n",
    "params = Parallel(n_jobs=n_subjects)(delayed(fit_subject)(data[1], quantiles) for data in df.groupby('subj_idx'))\n",
    "params = pd.concat(params, axis=0)"
   ]
  },
  {
   "cell_type": "code",
   "execution_count": 6,
   "metadata": {},
   "outputs": [
    {
     "data": {
      "image/png": "[encoded data removed]",
      "text/plain": [
       "<Figure size 360x144 with 1 Axes>"
      ]
     },
     "metadata": {},
     "output_type": "display_data"
    }
   ],
   "source": [
    "# parameter recovery plots:\n",
    "params_recovered = params.loc[:, ['z(0)', 'z(1)', 'a(0)', 'a(1)', 'v(0)', 'v(1)', 'dc(0)', 'dc(1)', 't(0)', 't(1)']]\n",
    "x = np.arange(5) * 2\n",
    "y0 = np.array([params0['z'], params0['a'], params0['v'], params0['dc'], params0['t']])\n",
    "y1 = np.array([params1['z'], params1['a'], params1['v'], params1['dc'], params1['t']])\n",
    "fig = plt.figure(figsize=(5,2))\n",
    "ax = fig.add_subplot(111)\n",
    "ax.scatter(x, y0, color='blue', alpha=0.5, label='True value')\n",
    "ax.scatter(x+1, y1, color='red', alpha=0.5, label='True value')\n",
    "sns.stripplot(data=params_recovered, jitter=False, size=2, edgecolor='black', linewidth=0.25, alpha=1, palette=['blue', 'red'], ax=ax)\n",
    "sns.despine(offset=5, trim=True,)\n",
    "plt.legend()\n",
    "plt.ylabel('Param value')\n",
    "plt.tight_layout()\n",
    "fig.savefig(os.path.join('plots', 'model_recovery.png'))"
   ]
  },
  {
   "cell_type": "code",
   "execution_count": 7,
   "metadata": {},
   "outputs": [
    {
     "name": "stdout",
     "output_type": "stream",
     "text": [
      "plot subj 0\n"
     ]
    },
    {
     "name": "stderr",
     "output_type": "stream",
     "text": [
      "/Users/janwillem/anaconda2/envs/ddm/lib/python2.7/site-packages/pandas/core/indexing.py:537: SettingWithCopyWarning: \n",
      "A value is trying to be set on a copy of a slice from a DataFrame.\n",
      "Try using .loc[row_indexer,col_indexer] = value instead\n",
      "\n",
      "See the caveats in the documentation: http://pandas.pydata.org/pandas-docs/stable/indexing.html#indexing-view-versus-copy\n",
      "  self.obj[item] = s\n"
     ]
    },
    {
     "name": "stdout",
     "output_type": "stream",
     "text": [
      "plot subj 1\n",
      "plot subj 2\n",
      "plot subj 3\n",
      "plot subj 0\n",
      "plot subj 1\n",
      "plot subj 2\n",
      "plot subj 3\n"
     ]
    },
    {
     "data": {
      "image/png": "[encoded data removed]",
      "text/plain": [
       "<Figure size 432x216 with 4 Axes>"
      ]
     },
     "metadata": {},
     "output_type": "display_data"
    },
    {
     "data": {
      "image/png": "[encoded data removed]",
      "text/plain": [
       "<Figure size 432x216 with 4 Axes>"
      ]
     },
     "metadata": {},
     "output_type": "display_data"
    }
   ],
   "source": [
    "# model fits:\n",
    "for condition in np.unique(df['condition']):\n",
    "    fig = model_fit(params, df, condition=condition, quantiles=quantiles)\n",
    "    fig.savefig(os.path.join('plots', 'model_fit_{}.png'.format(condition)))"
   ]
  },
  {
   "cell_type": "code",
   "execution_count": 8,
   "metadata": {},
   "outputs": [
    {
     "name": "stdout",
     "output_type": "stream",
     "text": [
      "plot subj 0\n"
     ]
    },
    {
     "name": "stderr",
     "output_type": "stream",
     "text": [
      "/Users/janwillem/anaconda2/envs/ddm/lib/python2.7/site-packages/pandas/core/indexing.py:357: SettingWithCopyWarning: \n",
      "A value is trying to be set on a copy of a slice from a DataFrame.\n",
      "Try using .loc[row_indexer,col_indexer] = value instead\n",
      "\n",
      "See the caveats in the documentation: http://pandas.pydata.org/pandas-docs/stable/indexing.html#indexing-view-versus-copy\n",
      "  self.obj[key] = _infer_fill_value(value)\n"
     ]
    },
    {
     "name": "stdout",
     "output_type": "stream",
     "text": [
      "plot subj 1\n",
      "plot subj 2\n",
      "plot subj 3\n",
      "plot subj 0\n",
      "plot subj 1\n",
      "plot subj 2\n",
      "plot subj 3\n",
      "plot subj 0\n",
      "plot subj 1\n",
      "plot subj 2\n",
      "plot subj 3\n",
      "plot subj 0\n",
      "plot subj 1\n",
      "plot subj 2\n",
      "plot subj 3\n"
     ]
    },
    {
     "data": {
      "image/png": "[encoded data removed]",
      "text/plain": [
       "<Figure size 144x144 with 1 Axes>"
      ]
     },
     "metadata": {},
     "output_type": "display_data"
    },
    {
     "data": {
      "image/png": "[encoded data removed]",
      "text/plain": [
       "<Figure size 144x144 with 1 Axes>"
      ]
     },
     "metadata": {},
     "output_type": "display_data"
    },
    {
     "data": {
      "image/png": "[encoded data removed]",
      "text/plain": [
       "<Figure size 144x144 with 1 Axes>"
      ]
     },
     "metadata": {},
     "output_type": "display_data"
    },
    {
     "data": {
      "image/png": "[encoded data removed]",
      "text/plain": [
       "<Figure size 144x144 with 1 Axes>"
      ]
     },
     "metadata": {},
     "output_type": "display_data"
    }
   ],
   "source": [
    "# conditional accuracy and response functions:\n",
    "for measure in ['correct', 'response']:\n",
    "    for condition in np.unique(df['condition']):\n",
    "        fig = conditional_rt_plots(params, df, measure=measure, condition=condition, quantiles=quantiles)\n",
    "        fig.savefig(os.path.join('plots', 'conditional_{}_{}.png'.format(measure, condition)))"
   ]
  },
  {
   "cell_type": "code",
   "execution_count": null,
   "metadata": {},
   "outputs": [],
   "source": []
  },
  {
   "cell_type": "code",
   "execution_count": null,
   "metadata": {},
   "outputs": [],
   "source": []
  },
  {
   "cell_type": "code",
   "execution_count": null,
   "metadata": {},
   "outputs": [],
   "source": []
  },
  {
   "cell_type": "code",
   "execution_count": null,
   "metadata": {},
   "outputs": [],
   "source": []
  }
 ],
 "metadata": {
  "kernelspec": {
   "display_name": "ddm",
   "language": "python",
   "name": "ddm"
  },
  "language_info": {
   "codemirror_mode": {
    "name": "ipython",
    "version": 2
   },
   "file_extension": ".py",
   "mimetype": "text/x-python",
   "name": "python",
   "nbconvert_exporter": "python",
   "pygments_lexer": "ipython2",
   "version": "2.7.14"
  }
 },
 "nbformat": 4,
 "nbformat_minor": 2
}
